{
 "cells": [
  {
   "cell_type": "code",
   "execution_count": 2,
   "metadata": {},
   "outputs": [],
   "source": [
    "import pandas as pd "
   ]
  },
  {
   "cell_type": "code",
   "execution_count": 3,
   "metadata": {},
   "outputs": [],
   "source": [
    "df = pd.read_csv(\"pill_dataset/medium_pilldataset/100client/clean_unequal_1.csv\")"
   ]
  },
  {
   "cell_type": "code",
   "execution_count": 4,
   "metadata": {},
   "outputs": [
    {
     "data": {
      "text/plain": [
       "array([4950,   40,   40,   40,   40,   40,   40,   40,   40,   40,   40,\n",
       "         40,   40,   40,   40,   40,   40,   40,   40,   40,   40,   40,\n",
       "         40,   40,   40,   40,   40,   40,   40,   40,   40,   40,   40,\n",
       "         40,   40,   40,   40,   40,   40,   40,   40,   40,   40,   40,\n",
       "         40,   40,   40,   40,   40,   40,   40,   40,   40,   40,   40,\n",
       "         40,   40,   40,   40,   40,   40,   40,   40,   40,   40,   40,\n",
       "         40,   40,   40,   40,   40,   40,   40,   40,   40,   40,   40,\n",
       "         40,   40,   40,   40,   40,   40,   40,   40,   40,   40,   40,\n",
       "         40,   40,   40,   40,   40,   40,   40,   40,   40,   40,   40,\n",
       "         40,   40,   40,   40,   40,   40,   40,   40,   40,   40,   40,\n",
       "         40,   40,   40,   40,   40,   40,   40,   40,   40,   40,   40,\n",
       "         40,   40,   40,   40,   40,   40,   40,   40,   40,   40,   40,\n",
       "         58,   40,   40,   40,   40,   40,   40,   40,   40,   40,   40,\n",
       "         40,   40,   40,   40,   40,   40,   40,   22])"
      ]
     },
     "execution_count": 4,
     "metadata": {},
     "output_type": "execute_result"
    }
   ],
   "source": [
    "df.values.sum(0)"
   ]
  },
  {
   "cell_type": "code",
   "execution_count": 5,
   "metadata": {},
   "outputs": [
    {
     "data": {
      "text/plain": [
       "array([40, 40, 40, 40, 40, 40, 40, 40, 40, 40, 40, 40, 40, 40, 40, 40, 40,\n",
       "       40, 40, 40, 40, 40, 40, 40, 40, 40, 40, 40, 40, 40, 40, 40, 40, 40,\n",
       "       40, 40, 40, 40, 40, 40, 40, 40, 40, 40, 40, 40, 40, 40, 40, 40, 40,\n",
       "       40, 40, 40, 40, 40, 40, 40, 40, 40, 40, 40, 40, 40, 40, 40, 40, 40,\n",
       "       40, 40, 40, 40, 40, 40, 40, 40, 40, 40, 40, 40, 40, 40, 40, 40, 40,\n",
       "       40, 40, 40, 40, 40, 40, 40, 40, 40, 40, 40, 40, 40, 40, 40, 40, 40,\n",
       "       40, 40, 40, 40, 40, 40, 40, 40, 40, 40, 40, 40, 40, 40, 40, 40, 40,\n",
       "       40, 40, 40, 40, 40, 40, 40, 40, 40, 40, 40, 40, 58, 40, 40, 40, 40,\n",
       "       40, 40, 40, 40, 40, 40, 40, 40, 40, 40, 40, 40, 40, 22])"
      ]
     },
     "execution_count": 5,
     "metadata": {},
     "output_type": "execute_result"
    }
   ],
   "source": [
    "df.values[:,1:].sum(0)"
   ]
  },
  {
   "cell_type": "code",
   "execution_count": null,
   "metadata": {},
   "outputs": [],
   "source": []
  }
 ],
 "metadata": {
  "kernelspec": {
   "display_name": "sampleselection",
   "language": "python",
   "name": "python3"
  },
  "language_info": {
   "codemirror_mode": {
    "name": "ipython",
    "version": 3
   },
   "file_extension": ".py",
   "mimetype": "text/x-python",
   "name": "python",
   "nbconvert_exporter": "python",
   "pygments_lexer": "ipython3",
   "version": "3.8.16"
  },
  "orig_nbformat": 4
 },
 "nbformat": 4,
 "nbformat_minor": 2
}
