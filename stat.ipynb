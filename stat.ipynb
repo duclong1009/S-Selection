{
 "cells": [
  {
   "cell_type": "code",
   "execution_count": 1,
   "metadata": {},
   "outputs": [],
   "source": [
    "import numpy as np\n",
    "import json"
   ]
  },
  {
   "cell_type": "code",
   "execution_count": 2,
   "metadata": {},
   "outputs": [],
   "source": [
    "with open(\"train_dataset_samples.txt\", \"r\") as fp:\n",
    "    sampes_ = fp.read().split(\"\\n\")\n",
    "read_samples = [(i.split(\"~\")[0], int(i.split(\"~\")[1]))\n",
    "                for i in sampes_]"
   ]
  },
  {
   "cell_type": "code",
   "execution_count": 62,
   "metadata": {},
   "outputs": [],
   "source": [
    "sample_dict = [(i[0],id) for id,i in enumerate(read_samples)]"
   ]
  },
  {
   "cell_type": "code",
   "execution_count": 64,
   "metadata": {},
   "outputs": [
    {
     "data": {
      "text/plain": [
       "('Gen_data/train/ACEFALGAN/bright/20221004_113719.jpg', 1)"
      ]
     },
     "execution_count": 64,
     "metadata": {},
     "output_type": "execute_result"
    }
   ],
   "source": [
    "sample_dict[1]"
   ]
  },
  {
   "cell_type": "code",
   "execution_count": 11,
   "metadata": {},
   "outputs": [
    {
     "name": "stdout",
     "output_type": "stream",
     "text": [
      "Number sample of clean_dict: 3850\n"
     ]
    }
   ],
   "source": [
    "clean_dict = [(i[0],id) for id,i in enumerate(read_samples) if \"clean\" in i[0]]\n",
    "print(f\"Number sample of clean_dict: {len(clean_dict)}\")\n",
    "\n",
    "saved_clean_dict = {}\n",
    "for item in clean_dict: \n",
    "    saved_clean_dict[item[0]] = item[1]\n",
    "with open(\"Gen_pill_process/dict/clean_dict.json\",\"w\") as f:\n",
    "    json.dump(saved_clean_dict,f)"
   ]
  },
  {
   "cell_type": "code",
   "execution_count": 13,
   "metadata": {},
   "outputs": [
    {
     "name": "stdout",
     "output_type": "stream",
     "text": [
      "Number sample of noisy_dict: 2310\n"
     ]
    }
   ],
   "source": [
    "noisy_dict = [(i[0],id) for id,i in enumerate(read_samples) if \"clean\"  not in i[0]]\n",
    "print(f\"Number sample of noisy_dict: {len(noisy_dict)}\")\n",
    "\n",
    "saved_noisy_dict = {}\n",
    "for item in noisy_dict: \n",
    "    saved_noisy_dict[item[0]] = item[1]\n",
    "with open(\"Gen_pill_process/dict/noisy_dict.json\",\"w\") as f:\n",
    "    json.dump(saved_noisy_dict,f)"
   ]
  },
  {
   "cell_type": "code",
   "execution_count": 14,
   "metadata": {},
   "outputs": [],
   "source": [
    "saved_clean_dict = {}\n",
    "for item in clean_dict: \n",
    "    saved_clean_dict[item[0]] = item[1]\n",
    "with open(\"Gen_pill_process/dict/clean_dict.json\",\"w\") as f:\n",
    "    json.dump(saved_clean_dict,f)"
   ]
  },
  {
   "cell_type": "code",
   "execution_count": 17,
   "metadata": {},
   "outputs": [],
   "source": [
    "saved_noisy_dict = {}\n",
    "for item in noisy_dict: \n",
    "    saved_noisy_dict[item[0]] = item[1]\n",
    "with open(\"Gen_pill_process/dict/noisy_dict.json\",\"w\") as f:\n",
    "    json.dump(saved_noisy_dict,f)"
   ]
  },
  {
   "cell_type": "code",
   "execution_count": 19,
   "metadata": {},
   "outputs": [],
   "source": [
    "with open(\"Gen_pill_process/dict/clean_dict.json\",\"r\") as f:\n",
    "        clean_dict = json.load(f)"
   ]
  },
  {
   "cell_type": "code",
   "execution_count": 21,
   "metadata": {},
   "outputs": [
    {
     "ename": "TypeError",
     "evalue": "'dict_items' object is not subscriptable",
     "output_type": "error",
     "traceback": [
      "\u001b[0;31m---------------------------------------------------------------------------\u001b[0m",
      "\u001b[0;31mTypeError\u001b[0m                                 Traceback (most recent call last)",
      "\u001b[0;32m<ipython-input-21-3bf55d59f125>\u001b[0m in \u001b[0;36m<module>\u001b[0;34m\u001b[0m\n\u001b[0;32m----> 1\u001b[0;31m \u001b[0mclean_dict\u001b[0m\u001b[0;34m.\u001b[0m\u001b[0mitems\u001b[0m\u001b[0;34m(\u001b[0m\u001b[0;34m)\u001b[0m\u001b[0;34m[\u001b[0m\u001b[0;36m0\u001b[0m\u001b[0;34m:\u001b[0m\u001b[0;36m10\u001b[0m\u001b[0;34m]\u001b[0m\u001b[0;34m\u001b[0m\u001b[0;34m\u001b[0m\u001b[0m\n\u001b[0m",
      "\u001b[0;31mTypeError\u001b[0m: 'dict_items' object is not subscriptable"
     ]
    }
   ],
   "source": [
    "clean_dict.items()[0:10]"
   ]
  },
  {
   "cell_type": "code",
   "execution_count": 25,
   "metadata": {},
   "outputs": [
    {
     "data": {
      "text/plain": [
       "[('Gen_data/train/ACEFALGAN/clean/20221004_110904.jpg', 10),\n",
       " ('Gen_data/train/ACEFALGAN/clean/20221004_110916.jpg', 11),\n",
       " ('Gen_data/train/ACEFALGAN/clean/20221004_110920.jpg', 12),\n",
       " ('Gen_data/train/ACEFALGAN/clean/20221004_110926.jpg', 13),\n",
       " ('Gen_data/train/ACEFALGAN/clean/20221004_110932.jpg', 14),\n",
       " ('Gen_data/train/ACEFALGAN/clean/20221004_110944.jpg', 15),\n",
       " ('Gen_data/train/ACEFALGAN/clean/20221004_110948.jpg', 16),\n",
       " ('Gen_data/train/ACEFALGAN/clean/20221004_110954.jpg', 17),\n",
       " ('Gen_data/train/ACEFALGAN/clean/20221004_110957.jpg', 18),\n",
       " ('Gen_data/train/ACEFALGAN/clean/20221004_111004.jpg', 19)]"
      ]
     },
     "execution_count": 25,
     "metadata": {},
     "output_type": "execute_result"
    }
   ],
   "source": [
    "list(clean_dict.items())[0:10]"
   ]
  },
  {
   "cell_type": "code",
   "execution_count": 55,
   "metadata": {},
   "outputs": [],
   "source": [
    "with open(\"Dataset_scenarios/NIID_Biasnoisy_10clients.json\",\"r\") as f:\n",
    "    tt = json.load(f)"
   ]
  },
  {
   "cell_type": "code",
   "execution_count": 78,
   "metadata": {},
   "outputs": [
    {
     "data": {
      "text/plain": [
       "0"
      ]
     },
     "execution_count": 78,
     "metadata": {},
     "output_type": "execute_result"
    }
   ],
   "source": [
    "len([sample_dict[i] for i in tt[\"9\"] if \"clean\" not in sample_dict[i][0]])"
   ]
  },
  {
   "cell_type": "code",
   "execution_count": null,
   "metadata": {},
   "outputs": [],
   "source": []
  }
 ],
 "metadata": {
  "kernelspec": {
   "display_name": "longnd",
   "language": "python",
   "name": "python3"
  },
  "language_info": {
   "codemirror_mode": {
    "name": "ipython",
    "version": 3
   },
   "file_extension": ".py",
   "mimetype": "text/x-python",
   "name": "python",
   "nbconvert_exporter": "python",
   "pygments_lexer": "ipython3",
   "version": "3.7.11"
  },
  "orig_nbformat": 4,
  "vscode": {
   "interpreter": {
    "hash": "9f784b053654bb8129a3cb1aa1762d7834caeb9ba8691a85058f59d7796858ce"
   }
  }
 },
 "nbformat": 4,
 "nbformat_minor": 2
}
