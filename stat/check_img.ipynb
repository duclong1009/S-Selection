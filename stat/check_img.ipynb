{
 "cells": [
  {
   "cell_type": "code",
   "execution_count": 1,
   "metadata": {},
   "outputs": [],
   "source": [
    "import json\n",
    "import numpy as np"
   ]
  },
  {
   "cell_type": "code",
   "execution_count": 5,
   "metadata": {},
   "outputs": [],
   "source": [
    "dict_path = f\"./Saved_Results/NIID_middlebias_10clients\"\n",
    "session_name = f\"fedalgo7_ratio_1.0_C_0.3_config2\"\n",
    "saved_path = f\"NIID_middlebias_10clients\"\n",
    "path_ = f\"{dict_path}/{session_name}.json\"\n",
    "\n",
    "path_ = \"/mnt/disk2/ndlong/SampleSelection_easyFL/Saved_Results/NIID_middlebias_10clients/fedalgo7_ratio_1.0_C_0.3_config2.json\"\n",
    "with open(path_, \"r\") as f:\n",
    "    result_dict = json.load(f) "
   ]
  },
  {
   "cell_type": "code",
   "execution_count": 7,
   "metadata": {},
   "outputs": [
    {
     "data": {
      "text/plain": [
       "dict_keys(['selectd_client', 'score_list', 'selected_ratio', 'threshold_score', 'training_loss', 'selected_samples'])"
      ]
     },
     "execution_count": 7,
     "metadata": {},
     "output_type": "execute_result"
    }
   ],
   "source": [
    "result_dict[\"Round 1\"].keys()"
   ]
  },
  {
   "cell_type": "code",
   "execution_count": 23,
   "metadata": {},
   "outputs": [],
   "source": [
    "my_file = open(\"/mnt/disk2/ndlong/SampleSelection_easyFL/train_dataset_samples.txt\", \"r\")\n",
    "data = my_file.read()\n",
    "data_into_list = data.split(\"\\n\")\n",
    "dict_ = {}\n",
    "dict_path = {}\n",
    "for id, data in enumerate(data_into_list):\n",
    "    dict_[id] = data.split(\"~\")[1]\n",
    "    dict_path[id] = data.split(\"~\")[0]"
   ]
  },
  {
   "cell_type": "code",
   "execution_count": 48,
   "metadata": {},
   "outputs": [
    {
     "name": "stdout",
     "output_type": "stream",
     "text": [
      "Gen_data/train/ENALAPRIL 10MG/clean/20221010_152839.jpg 128.53359534410046\n",
      "Gen_data/train/FEXOPHAR/clean/IMG_8825.jpg 124.31107448333888\n",
      "Gen_data/train/IZANDIN 500MG/clean/20221009_220816.jpg 118.39811208994715\n",
      "Gen_data/train/ASZOLZDY 10/clean/IMG_8806.jpg 116.67469184453495\n",
      "Gen_data/train/DOZIDINE MR 35mg/clean/b1bcaa587554b20aeb4538.jpg 116.10037831278059\n",
      "Gen_data/train/TETRACYLIN 500MG/clean/IMG_3194.jpg 112.16454729643172\n",
      "Gen_data/train/SILYMARIN/clean/IMG_1316.jpg 110.1648367862662\n",
      "Gen_data/train/COSYNDO B/clean/1665502000880.jpg 109.32432035742075\n",
      "Gen_data/train/MAXX-MUCOUS-AB-30/clean/20221005_224234.jpg 108.72137628681546\n",
      "Gen_data/train/NO-SPA FORTE 80MG/clean/IMG_3191.jpg 108.50943847856249\n",
      "Gen_data/train/DOZIDINE MR 35mg/clean/86838682588e9fd0c69f10.jpg 108.03869745242996\n",
      "Gen_data/train/COSYNDO B/clean/1665502001035.jpg 106.79133071920646\n",
      "Gen_data/train/FEXOPHAR/clean/IMG_8833.jpg 106.33301564371888\n",
      "Gen_data/train/GLUCOPHAGE/clean/20221005_212902.jpg 104.87121630331039\n",
      "Gen_data/train/ENALAPRIL 10MG/clean/20221010_153020.jpg 103.5596334485825\n",
      "Gen_data/train/FEXOPHAR/clean/IMG_8845.jpg 103.1261154870926\n",
      "Gen_data/train/R-CIN 300/clean/IMG_3761.jpg 102.63053833030257\n",
      "Gen_data/train/FEXOPHAR/clean/IMG_8840.jpg 102.46299402224102\n",
      "Gen_data/train/MAXX-MUCOUS-AB-30/clean/20221005_224238.jpg 101.99299877531544\n",
      "Gen_data/train/DOZIDINE MR 35mg/clean/af337dada2a165ff3cb039.jpg 101.78124616462752\n",
      "Gen_data/train/CLORPHENIRAMIN/clean/IMG_0269.jpg 101.46576655585672\n",
      "Gen_data/train/GLUCOPHAGE/clean/20221007_170749.jpg 101.0693756347672\n",
      "Gen_data/train/MAXX-MUCOUS-AB-30/clean/20221005_224213.jpg 100.63623253073436\n",
      "Gen_data/train/NO-SPA FORTE 80MG/clean/IMG_3167.jpg 100.51148559402013\n",
      "Gen_data/train/CARUDXAN 2MG/clean/304654ea268ae1d4b89b.jpg 100.18899374202861\n",
      "Gen_data/train/CARUDXAN 2MG/clean/IMG_20221009_084715_176.jpg 99.14693618599462\n",
      "Gen_data/train/COSYNDO B/clean/1665502000656.jpg 99.0719896281528\n",
      "Gen_data/train/NO-SPA FORTE 80MG/clean/IMG_3188.jpg 98.98914179899775\n",
      "Gen_data/train/NO-SPA FORTE 80MG/clean/IMG_3186.jpg 98.95762816937385\n",
      "Gen_data/train/ENALAPRIL 10MG/clean/20221010_152854.jpg 98.86276928454855\n"
     ]
    }
   ],
   "source": [
    "round = 21\n",
    "client = 8\n",
    "res = result_dict[f\"Round {round}\"][\"score_list\"][f\"client_{client}\"]\n",
    "sort_idx = np.argsort(np.array(res))[::-1]\n",
    "\n",
    "for idx in sort_idx[:30]:\n",
    "    id = client_idx[str(client)][idx]\n",
    "    print(dict_path[id], res[idx])"
   ]
  },
  {
   "cell_type": "code",
   "execution_count": 46,
   "metadata": {},
   "outputs": [
    {
     "name": "stdout",
     "output_type": "stream",
     "text": [
      "Gen_data/train/COCHISIN/clean/14c5aed8b1b876e62fa9.jpg 4.357580994153519\n",
      "Gen_data/train/DOZIDINE MR 35mg/clean/0a8f29b32be9ecb7b5f819.jpg 5.802534299695663\n",
      "Gen_data/train/RUTIN C/clean/IMG_7683.JPG 6.488176536718766\n",
      "Gen_data/train/MAXX-MUCOUS-AB-30/clean/20221007_180310.jpg 6.6326236052288925\n",
      "Gen_data/train/RUTIN C/clean/IMG_7696.JPG 6.63516883772198\n",
      "Gen_data/train/RUTIN C/clean/IMG_7694.JPG 6.659774681985298\n",
      "Gen_data/train/RUTIN C/clean/IMG_7680.JPG 7.12139490858557\n",
      "Gen_data/train/RUTIN C/clean/IMG_7686.JPG 7.146505671070318\n",
      "Gen_data/train/RUTIN C/clean/IMG_7672.JPG 7.223495224369471\n",
      "Gen_data/train/RUTIN C/clean/IMG_7690.JPG 7.600360488082682\n",
      "Gen_data/train/RUTIN C/clean/IMG_7684.JPG 7.6216265361678595\n",
      "Gen_data/train/RUTIN C/clean/IMG_7689.JPG 7.6220097064737\n",
      "Gen_data/train/COCHISIN/clean/7a3f29e93689f1d7a898.jpg 7.7238220929752615\n",
      "Gen_data/train/MAXX-MUCOUS-AB-30/clean/20221007_180329.jpg 8.15792409592858\n",
      "Gen_data/train/RUTIN C/clean/IMG_7687.JPG 9.028392221099368\n",
      "Gen_data/train/DOZIDINE MR 35mg/clean/05a09d36433a8464dd2b1.jpg 9.668078413005652\n",
      "Gen_data/train/RUTIN C/clean/IMG_7695.JPG 9.739158018440547\n",
      "Gen_data/train/MAXX-MUCOUS-AB-30/clean/20221007_180303.jpg 9.77464175271953\n",
      "Gen_data/train/RUTIN C/clean/IMG_7682.JPG 10.237581297417842\n",
      "Gen_data/train/CORBIERE MAGNE - B6/cover/20221005_145641.jpg 10.250277124552838\n",
      "Gen_data/train/COCHISIN/clean/IMG_20221009_090015_875.jpg 10.35968414691427\n",
      "Gen_data/train/RUTIN C/clean/IMG_7674.JPG 11.563665824422205\n",
      "Gen_data/train/RUTIN C/clean/IMG_7681.JPG 11.936181309562716\n",
      "Gen_data/train/DOZIDINE MR 35mg/clean/215beba8f6f231ac68e34.jpg 13.037046038902057\n",
      "Gen_data/train/MAXX-MUCOUS-AB-30/clean/20221007_180402.jpg 13.092588963531124\n",
      "Gen_data/train/RUTIN C/clean/IMG_7677.JPG 13.292776318182637\n",
      "Gen_data/train/RUTIN C/clean/IMG_7679.JPG 13.307054566905851\n",
      "Gen_data/train/COCHISIN/clean/13899856843643681a27.jpg 13.370331872669233\n",
      "Gen_data/train/DOZIDINE MR 35mg/clean/0a3149a054fa93a4caeb8.jpg 13.567713946035969\n",
      "Gen_data/train/RUTIN C/clean/IMG_7685.JPG 13.569495036522364\n"
     ]
    }
   ],
   "source": [
    "round = 21\n",
    "client = 3\n",
    "res = result_dict[f\"Round {round}\"][\"score_list\"][f\"client_{client}\"]\n",
    "sort_idx = np.argsort(np.array(res))\n",
    "\n",
    "for idx in sort_idx[:30]:\n",
    "    id = client_idx[str(client)][idx]\n",
    "    print(dict_path[id], res[idx])"
   ]
  },
  {
   "cell_type": "code",
   "execution_count": 27,
   "metadata": {},
   "outputs": [
    {
     "data": {
      "text/plain": [
       "2793"
      ]
     },
     "execution_count": 27,
     "metadata": {},
     "output_type": "execute_result"
    }
   ],
   "source": [
    "id"
   ]
  },
  {
   "cell_type": "code",
   "execution_count": 25,
   "metadata": {},
   "outputs": [
    {
     "data": {
      "text/plain": [
       "array([278, 403, 284, 273, 275, 263, 441, 451, 264, 268, 262, 270, 375,\n",
       "       382, 258,  83, 341, 228, 104, 274,  79,  81, 276, 277, 343, 344,\n",
       "        75, 376, 442,  84, 316, 283, 248, 318,  21, 350, 253, 269, 103,\n",
       "       457, 292, 437,  82, 245, 279, 349, 456, 377, 335,  78, 282, 363,\n",
       "       255, 138, 381,  14, 241,  76, 271, 102, 281, 260, 398, 404, 436,\n",
       "        98, 367, 379, 372, 373, 257, 136, 460, 196, 371, 265, 242, 346,\n",
       "       101, 235,  73, 290, 439, 147, 226, 252,  38, 247, 358, 323,  50,\n",
       "       231, 288, 267, 378, 266,  96,  23, 319, 355, 149, 239, 380,  97,\n",
       "       107, 233,  15, 520, 259, 317, 462, 148, 387, 285, 230, 321, 364,\n",
       "       198, 523, 394, 391,  37, 190, 340, 193, 383, 203,  53, 144,  31,\n",
       "       354, 342, 357, 384,  95,  30, 359, 109,  72, 503, 143, 402, 337,\n",
       "       227, 399, 310, 137,  32, 315, 365, 324, 396, 145, 194, 374, 254,\n",
       "        70,  17, 205,  57, 294, 234, 440,  71, 155, 256, 209, 139, 126,\n",
       "       202, 207, 199, 313,  60, 368, 392, 272, 287, 459, 111,   4,   3,\n",
       "       366,  55, 397, 229, 351, 249, 353, 246,  10, 326, 261, 458, 151,\n",
       "       461, 280, 434, 238,  24, 361, 429, 325, 467, 200,  27, 297,  51,\n",
       "       201, 204, 331,  36, 110, 345, 293, 158, 473,  62, 327, 427, 250,\n",
       "       465, 430,  13, 450, 498, 161, 219, 426,  46, 474, 150, 332, 174,\n",
       "       401,  48, 444, 237, 449, 470, 452, 108, 339, 455, 172, 433,  80,\n",
       "         1, 243, 251,  65, 133, 218, 516, 356, 501,  56, 187, 169, 240,\n",
       "       132, 484, 322, 225,  16, 162, 485, 369, 336, 100, 130, 370, 232,\n",
       "       481,   0, 352, 113, 491,   6, 334, 153, 495, 360, 524, 159,  19,\n",
       "       115, 471, 505, 311, 482, 195, 141, 173, 466, 472,  68,  85, 217,\n",
       "       338, 428, 127,  45, 106, 438, 197, 400, 160, 216, 307, 515, 131,\n",
       "         5, 507, 156, 214,  52, 192, 511,  12, 389,  43, 112, 142, 348,\n",
       "       448, 152,  35,  47, 308,  40,  77, 453, 135, 140, 496, 213, 286,\n",
       "       291, 164, 211,  25, 447, 244, 393,  22, 114, 407,  42, 116, 488,\n",
       "       411,  88, 220, 385, 320, 330, 464, 497, 443, 165, 519, 295, 362,\n",
       "       483, 500, 446, 425, 208,  49,   2, 454, 289, 224, 518, 305,  74,\n",
       "       333, 435, 222, 395, 386,  44, 157,  28, 170, 236, 445, 388, 416,\n",
       "       154, 469,  89,  90, 329,  87, 463, 479, 312,  61, 210, 509, 412,\n",
       "       475, 105, 494, 517, 521,  58,  63,  41, 508, 431, 146, 510, 522,\n",
       "       186, 468,  20, 415, 476, 163,  59, 212, 314, 493, 477, 390,  93,\n",
       "       478, 128, 328,   9, 512,  33,  69, 514, 117, 206, 347, 492, 167,\n",
       "        39, 181, 304, 418, 489,  64,  54, 432,  29,  34, 221,   7, 189,\n",
       "       215, 122,  99, 185, 118, 223, 506, 123, 301,  67, 191, 421, 168,\n",
       "       124,  91, 188,  18, 414,  92, 490, 175, 298, 171, 419, 302, 303,\n",
       "        26, 409, 480,  94, 513, 486, 406, 499, 296,  66, 487, 300, 417,\n",
       "        86, 306,   8, 177, 119, 424, 182, 309,  11, 299, 125, 405, 129,\n",
       "       176, 502, 121, 166, 504, 178, 408, 134, 184, 179, 423, 120, 420,\n",
       "       413, 422, 410, 180, 183])"
      ]
     },
     "execution_count": 25,
     "metadata": {},
     "output_type": "execute_result"
    }
   ],
   "source": [
    "sort_idx"
   ]
  },
  {
   "cell_type": "code",
   "execution_count": null,
   "metadata": {},
   "outputs": [],
   "source": []
  }
 ],
 "metadata": {
  "kernelspec": {
   "display_name": "longnd",
   "language": "python",
   "name": "python3"
  },
  "language_info": {
   "codemirror_mode": {
    "name": "ipython",
    "version": 3
   },
   "file_extension": ".py",
   "mimetype": "text/x-python",
   "name": "python",
   "nbconvert_exporter": "python",
   "pygments_lexer": "ipython3",
   "version": "3.8.12"
  },
  "orig_nbformat": 4,
  "vscode": {
   "interpreter": {
    "hash": "9f784b053654bb8129a3cb1aa1762d7834caeb9ba8691a85058f59d7796858ce"
   }
  }
 },
 "nbformat": 4,
 "nbformat_minor": 2
}
