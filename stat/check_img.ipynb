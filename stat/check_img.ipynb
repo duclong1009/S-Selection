{
 "cells": [
  {
   "cell_type": "code",
   "execution_count": 2,
   "metadata": {},
   "outputs": [],
   "source": [
    "import json\n",
    "import numpy as np"
   ]
  },
  {
   "cell_type": "code",
   "execution_count": 3,
   "metadata": {},
   "outputs": [],
   "source": [
    "import json\n",
    "import numpy as np\n",
    "dict_path = f\"./Saved_Results/NIID_middlebias_10clients\"\n",
    "session_name = f\"fedalgo9_ratio_1.0_C_0.3_config4\"\n",
    "saved_path = f\"NIID_middlebias_10clients\"\n",
    "path_ = f\"{dict_path}/{session_name}.json\"\n",
    "\n",
    "path_ = \"/mnt/disk2/ndlong/SampleSelection_easyFL/Saved_Results/NIID_middlebias_10clients/fedalgo7_ratio_1.0_C_0.3_config2.json\"\n",
    "with open(path_, \"r\") as f:\n",
    "    result_dict = json.load(f) "
   ]
  },
  {
   "cell_type": "code",
   "execution_count": 5,
   "metadata": {},
   "outputs": [],
   "source": [
    "my_file = open(\"/mnt/disk2/ndlong/SampleSelection_easyFL/train_dataset_samples.txt\", \"r\")\n",
    "data = my_file.read()\n",
    "data_into_list = data.split(\"\\n\")\n",
    "dict_ = {}\n",
    "dict_path = {}\n",
    "for id, data in enumerate(data_into_list):\n",
    "    dict_[id] = data.split(\"~\")[1]\n",
    "    dict_path[id] = data.split(\"~\")[0]"
   ]
  },
  {
   "cell_type": "code",
   "execution_count": 8,
   "metadata": {},
   "outputs": [],
   "source": [
    "with open(\"/mnt/disk2/ndlong/SampleSelection_easyFL/Dataset_scenarios/NIID_middlebias_10clients.json\",\"r\") as f:\n",
    "    client_idx = json.load(f)"
   ]
  },
  {
   "cell_type": "code",
   "execution_count": 12,
   "metadata": {},
   "outputs": [
    {
     "name": "stdout",
     "output_type": "stream",
     "text": [
      "Gen_data/train/COCHISIN/clean/14c5aed8b1b876e62fa9.jpg 93.07222633986294\n",
      "Gen_data/train/Micadis 12.5mg/clean/IMG_0632.jpg 81.86546680055504\n",
      "Gen_data/train/COCHISIN/clean/IMG_20221009_085858_162.jpg 80.41220746179945\n",
      "Gen_data/train/RUTIN C/clean/IMG_7677.JPG 78.95200992668626\n",
      "Gen_data/train/Micadis 12.5mg/clean/IMG_0634.jpg 77.60695147200555\n",
      "Gen_data/train/Micadis 12.5mg/clean/IMG_0631.jpg 75.45663202571559\n",
      "Gen_data/train/ACEFALGAN/bright/20221004_113743.jpg 75.24177952096132\n",
      "Gen_data/train/COCHISIN/clean/IMG_20221009_085754_318.jpg 75.18805497149214\n",
      "Gen_data/train/Micadis 12.5mg/clean/IMG_0422.jpg 74.74453617983924\n",
      "Gen_data/train/RUTIN C/clean/IMG_7687.JPG 73.81559414557618\n",
      "Gen_data/train/Micadis 12.5mg/clean/IMG_0628.jpg 73.57983490602003\n",
      "Gen_data/train/RUTIN C/clean/IMG_7685.JPG 72.48865775230742\n",
      "Gen_data/train/COCHISIN/clean/IMG_20221009_090159_873.jpg 72.05070629910902\n",
      "Gen_data/train/COCHISIN/clean/IMG_20221009_090147_869.jpg 71.97283860663126\n",
      "Gen_data/train/VAGINAPOLY/clean/1665721641850.jpg 71.68522186602155\n",
      "Gen_data/train/RUTIN C/clean/IMG_7679.JPG 71.39337665290695\n",
      "Gen_data/train/LACBIOPRO BIDIPHAR/clean/20221005_144242.jpg 71.13713606528226\n",
      "Gen_data/train/ACEFALGAN/bright/20221004_113741.jpg 70.88433676457561\n",
      "Gen_data/train/Micadis 12.5mg/clean/IMG_0426.jpg 69.74148152699253\n",
      "Gen_data/train/COCHISIN/clean/IMG_20221009_090216_327.jpg 69.46180627373606\n",
      "Gen_data/train/RUTIN C/clean/IMG_7678.JPG 69.3527660649908\n",
      "Gen_data/train/Micadis 12.5mg/clean/IMG_0625.jpg 69.32588674263587\n",
      "Gen_data/train/DOZIDINE MR 35mg/clean/30c814aacaa60df854b721.jpg 69.29030720264079\n",
      "Gen_data/train/LACBIOPRO BIDIPHAR/clean/20221009_215901.jpg 69.27742958213378\n",
      "Gen_data/train/Micadis 12.5mg/clean/IMG_0635.jpg 69.258545196964\n",
      "Gen_data/train/HAPHEXIN/clean/IMG_20221007_160925.jpg 69.25253992990895\n",
      "Gen_data/train/ACEFALGAN/zoom/20221004_112003.jpg 69.01485378321314\n",
      "Gen_data/train/RUTIN C/clean/IMG_7667.JPG 68.99053631000454\n",
      "Gen_data/train/COCHISIN/clean/IMG_20221009_085945_434.jpg 68.79677653971669\n",
      "Gen_data/train/Micadis 12.5mg/clean/IMG_0429.jpg 68.78890825443385\n"
     ]
    }
   ],
   "source": [
    "round = 6\n",
    "client = 3\n",
    "res = result_dict[f\"Round {round}\"][\"score_list\"][f\"client_{client}\"]\n",
    "sort_idx = np.argsort(np.array(res))[::-1]\n",
    "\n",
    "for idx in sort_idx[:30]:\n",
    "    id = client_idx[str(client)][idx]\n",
    "    print(dict_path[id], res[idx])"
   ]
  },
  {
   "cell_type": "code",
   "execution_count": 13,
   "metadata": {},
   "outputs": [
    {
     "name": "stdout",
     "output_type": "stream",
     "text": [
      "Gen_data/train/CORBIERE MAGNE - B6/zoom/20221005_145957.jpg 30.942626320623695\n",
      "Gen_data/train/HALIXOL/zoom/IMG_2936.jpg 32.123623389422406\n",
      "Gen_data/train/ASTOVASTATIN/bright/IMG_20221004_115517.jpg 33.33610045238189\n",
      "Gen_data/train/HALIXOL/zoom/IMG_2932.jpg 33.46588095825649\n",
      "Gen_data/train/DIAMICRON MR 60 mg/zoom/eb0d92fc38e5ffbba6f4.jpg 34.486533503402555\n",
      "Gen_data/train/RUTIN C/clean/IMG_7680.JPG 35.104262965513094\n",
      "Gen_data/train/CORBIERE MAGNE - B6/zoom/20221005_145912.jpg 35.33587058284497\n",
      "Gen_data/train/DIAMICRON MR 60 mg/zoom/9597396a2332e46cbd23.jpg 35.69979390762545\n",
      "Gen_data/train/HALIXOL/zoom/IMG_2931.jpg 35.773156115820015\n",
      "Gen_data/train/NO-SPA FORTE 80MG/zoom/IMG_2942.jpg 35.936530297162406\n",
      "Gen_data/train/GLUCOFAST/clean/20221007_180927.jpg 36.19289561489636\n",
      "Gen_data/train/DIAMICRON MR 60 mg/zoom/d3fda900b35874062d49.jpg 36.921148272015145\n",
      "Gen_data/train/HAPHEXIN/clean/IMG_20221004_215036.jpg 36.98610379735785\n",
      "Gen_data/train/TETRACYLIN 500MG/zoom/IMG_2967.jpg 37.06131036128888\n",
      "Gen_data/train/Moxilen/zoom/IMG_0402.jpg 37.59966205176673\n",
      "Gen_data/train/CORBIERE MAGNE - B6/bright/20221005_224311.jpg 37.97174248908677\n",
      "Gen_data/train/GLUCOFAST/clean/20221005_214649.jpg 38.02411290140244\n",
      "Gen_data/train/RUTIN C/clean/IMG_7672.JPG 38.28409128435817\n",
      "Gen_data/train/Moxilen/zoom/IMG_0401.jpg 38.420658527229854\n",
      "Gen_data/train/PYMENOSPAIN/bright/IMG_20221004_214229.jpg 38.53230510640557\n",
      "Gen_data/train/CORBIERE MAGNE - B6/zoom/20221005_145848.jpg 38.532333369051265\n",
      "Gen_data/train/PYMENOSPAIN/zoom/IMG_20221004_211908.jpg 38.532986122172424\n",
      "Gen_data/train/CORBIERE MAGNE - B6/cover/20221005_145718.jpg 38.56206123030716\n",
      "Gen_data/train/HALIXOL/zoom/IMG_2933.jpg 38.79232455717127\n",
      "Gen_data/train/PYMENOSPAIN/clean/IMG_20221007_171316.jpg 38.86624234457408\n",
      "Gen_data/train/GLUCOFAST/clean/20221005_214745.jpg 39.163721531276224\n",
      "Gen_data/train/GLUCOFAST/clean/20221005_214626.jpg 39.261134833561\n",
      "Gen_data/train/GLUCOFAST/clean/20221007_180925.jpg 39.46616270895076\n",
      "Gen_data/train/PYMENOSPAIN/clean/IMG_20221007_171317_1.jpg 39.64668478106003\n",
      "Gen_data/train/HALIXOL/zoom/IMG_2929.jpg 39.71371990742599\n"
     ]
    }
   ],
   "source": [
    "round = 6\n",
    "client = 3\n",
    "res = result_dict[f\"Round {round}\"][\"score_list\"][f\"client_{client}\"]\n",
    "sort_idx = np.argsort(np.array(res))\n",
    "\n",
    "for idx in sort_idx[:30]:\n",
    "    id = client_idx[str(client)][idx]\n",
    "    print(dict_path[id], res[idx])"
   ]
  },
  {
   "cell_type": "code",
   "execution_count": 27,
   "metadata": {},
   "outputs": [
    {
     "data": {
      "text/plain": [
       "2793"
      ]
     },
     "execution_count": 27,
     "metadata": {},
     "output_type": "execute_result"
    }
   ],
   "source": [
    "id"
   ]
  },
  {
   "cell_type": "code",
   "execution_count": 25,
   "metadata": {},
   "outputs": [
    {
     "data": {
      "text/plain": [
       "array([278, 403, 284, 273, 275, 263, 441, 451, 264, 268, 262, 270, 375,\n",
       "       382, 258,  83, 341, 228, 104, 274,  79,  81, 276, 277, 343, 344,\n",
       "        75, 376, 442,  84, 316, 283, 248, 318,  21, 350, 253, 269, 103,\n",
       "       457, 292, 437,  82, 245, 279, 349, 456, 377, 335,  78, 282, 363,\n",
       "       255, 138, 381,  14, 241,  76, 271, 102, 281, 260, 398, 404, 436,\n",
       "        98, 367, 379, 372, 373, 257, 136, 460, 196, 371, 265, 242, 346,\n",
       "       101, 235,  73, 290, 439, 147, 226, 252,  38, 247, 358, 323,  50,\n",
       "       231, 288, 267, 378, 266,  96,  23, 319, 355, 149, 239, 380,  97,\n",
       "       107, 233,  15, 520, 259, 317, 462, 148, 387, 285, 230, 321, 364,\n",
       "       198, 523, 394, 391,  37, 190, 340, 193, 383, 203,  53, 144,  31,\n",
       "       354, 342, 357, 384,  95,  30, 359, 109,  72, 503, 143, 402, 337,\n",
       "       227, 399, 310, 137,  32, 315, 365, 324, 396, 145, 194, 374, 254,\n",
       "        70,  17, 205,  57, 294, 234, 440,  71, 155, 256, 209, 139, 126,\n",
       "       202, 207, 199, 313,  60, 368, 392, 272, 287, 459, 111,   4,   3,\n",
       "       366,  55, 397, 229, 351, 249, 353, 246,  10, 326, 261, 458, 151,\n",
       "       461, 280, 434, 238,  24, 361, 429, 325, 467, 200,  27, 297,  51,\n",
       "       201, 204, 331,  36, 110, 345, 293, 158, 473,  62, 327, 427, 250,\n",
       "       465, 430,  13, 450, 498, 161, 219, 426,  46, 474, 150, 332, 174,\n",
       "       401,  48, 444, 237, 449, 470, 452, 108, 339, 455, 172, 433,  80,\n",
       "         1, 243, 251,  65, 133, 218, 516, 356, 501,  56, 187, 169, 240,\n",
       "       132, 484, 322, 225,  16, 162, 485, 369, 336, 100, 130, 370, 232,\n",
       "       481,   0, 352, 113, 491,   6, 334, 153, 495, 360, 524, 159,  19,\n",
       "       115, 471, 505, 311, 482, 195, 141, 173, 466, 472,  68,  85, 217,\n",
       "       338, 428, 127,  45, 106, 438, 197, 400, 160, 216, 307, 515, 131,\n",
       "         5, 507, 156, 214,  52, 192, 511,  12, 389,  43, 112, 142, 348,\n",
       "       448, 152,  35,  47, 308,  40,  77, 453, 135, 140, 496, 213, 286,\n",
       "       291, 164, 211,  25, 447, 244, 393,  22, 114, 407,  42, 116, 488,\n",
       "       411,  88, 220, 385, 320, 330, 464, 497, 443, 165, 519, 295, 362,\n",
       "       483, 500, 446, 425, 208,  49,   2, 454, 289, 224, 518, 305,  74,\n",
       "       333, 435, 222, 395, 386,  44, 157,  28, 170, 236, 445, 388, 416,\n",
       "       154, 469,  89,  90, 329,  87, 463, 479, 312,  61, 210, 509, 412,\n",
       "       475, 105, 494, 517, 521,  58,  63,  41, 508, 431, 146, 510, 522,\n",
       "       186, 468,  20, 415, 476, 163,  59, 212, 314, 493, 477, 390,  93,\n",
       "       478, 128, 328,   9, 512,  33,  69, 514, 117, 206, 347, 492, 167,\n",
       "        39, 181, 304, 418, 489,  64,  54, 432,  29,  34, 221,   7, 189,\n",
       "       215, 122,  99, 185, 118, 223, 506, 123, 301,  67, 191, 421, 168,\n",
       "       124,  91, 188,  18, 414,  92, 490, 175, 298, 171, 419, 302, 303,\n",
       "        26, 409, 480,  94, 513, 486, 406, 499, 296,  66, 487, 300, 417,\n",
       "        86, 306,   8, 177, 119, 424, 182, 309,  11, 299, 125, 405, 129,\n",
       "       176, 502, 121, 166, 504, 178, 408, 134, 184, 179, 423, 120, 420,\n",
       "       413, 422, 410, 180, 183])"
      ]
     },
     "execution_count": 25,
     "metadata": {},
     "output_type": "execute_result"
    }
   ],
   "source": [
    "sort_idx"
   ]
  },
  {
   "cell_type": "code",
   "execution_count": null,
   "metadata": {},
   "outputs": [],
   "source": []
  }
 ],
 "metadata": {
  "kernelspec": {
   "display_name": "longnd",
   "language": "python",
   "name": "python3"
  },
  "language_info": {
   "codemirror_mode": {
    "name": "ipython",
    "version": 3
   },
   "file_extension": ".py",
   "mimetype": "text/x-python",
   "name": "python",
   "nbconvert_exporter": "python",
   "pygments_lexer": "ipython3",
   "version": "3.8.12 | packaged by conda-forge | (default, Oct 12 2021, 21:57:06) \n[GCC 9.4.0]"
  },
  "orig_nbformat": 4,
  "vscode": {
   "interpreter": {
    "hash": "9f784b053654bb8129a3cb1aa1762d7834caeb9ba8691a85058f59d7796858ce"
   }
  }
 },
 "nbformat": 4,
 "nbformat_minor": 2
}
